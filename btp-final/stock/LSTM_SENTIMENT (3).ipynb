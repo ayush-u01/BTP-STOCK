{
  "metadata": {
    "kernelspec": {
      "display_name": "Python 3",
      "name": "python3"
    },
    "language_info": {
      "pygments_lexer": "ipython3",
      "nbconvert_exporter": "python",
      "version": "3.6.4",
      "file_extension": ".py",
      "codemirror_mode": {
        "name": "ipython",
        "version": 3
      },
      "name": "python",
      "mimetype": "text/x-python"
    },
    "kaggle": {
      "accelerator": "none",
      "dataSources": [
        {
          "sourceId": 7213,
          "sourceType": "datasetVersion",
          "datasetId": 4538
        },
        {
          "sourceId": 11745,
          "sourceType": "datasetVersion",
          "datasetId": 8396
        },
        {
          "sourceId": 17155,
          "sourceType": "datasetVersion",
          "datasetId": 1908
        },
        {
          "sourceId": 1803187,
          "sourceType": "datasetVersion",
          "datasetId": 371866
        },
        {
          "sourceId": 5346992,
          "sourceType": "datasetVersion",
          "datasetId": 588108
        }
      ],
      "dockerImageVersionId": 30055,
      "isInternetEnabled": false,
      "language": "python",
      "sourceType": "notebook",
      "isGpuEnabled": false
    },
    "colab": {
      "provenance": [],
      "gpuType": "T4"
    },
    "accelerator": "GPU"
  },
  "nbformat_minor": 0,
  "nbformat": 4,
  "cells": [
    {
      "cell_type": "markdown",
      "source": [
        "<div align='center'><font size=\"5\" color='#353B47'>Predicting Stock Prices</font></div>\n",
        "<div align='center'><font size=\"4\" color=\"#353B47\">How to use LSTMs</font></div>\n",
        "<br>\n",
        "<hr>"
      ],
      "metadata": {
        "id": "wqfXoEEO9xxL"
      }
    },
    {
      "cell_type": "markdown",
      "source": [
        "**<font color=\"#5963ab\" size=\"4\">Context</font>**\n",
        "\n",
        "> This notebook is designed to demonstrate a concise script for predicting stock prices utilizing a Long Short-Term Memory (LSTM) model. I have provided an introduction to <a href=\"https://www.kaggle.com/bryanb/introduction-to-time-series-analysis/edit/run/53321733\">Time Series Analysis</a>, which I encourage you to review if you have not already done so."
      ],
      "metadata": {
        "id": "ugVbPd5m9xxO"
      }
    },
    {
      "cell_type": "markdown",
      "source": [
        "<div id=\"chap1\"><h1 style=\"color:white;background:#5963ab;border-radius:5px;padding:30px;font-family:'Arial', cursive;font-size:50px;text-align:center\">Imports</h1></div>"
      ],
      "metadata": {
        "id": "sdMlpqal9xxQ"
      }
    },
    {
      "cell_type": "code",
      "source": [
        "import numpy as np\n",
        "import pandas as pd\n",
        "\n",
        "import os\n",
        "import matplotlib.pyplot as plt\n",
        "import pandas_datareader as web\n",
        "import datetime as dt\n",
        "\n",
        "from sklearn.preprocessing import MinMaxScaler\n",
        "from tensorflow.keras.models import Sequential\n",
        "from tensorflow.keras.layers import Dense, Dropout, LSTM, LeakyReLU, Bidirectional\n",
        "from tensorflow.keras.callbacks import ModelCheckpoint, EarlyStopping"
      ],
      "metadata": {
        "_uuid": "8f2839f25d086af736a60e9eeb907d3b93b6e0e5",
        "_cell_guid": "b1076dfc-b9ad-4769-8c92-a6c4dae69d19",
        "execution": {
          "iopub.status.busy": "2023-04-06T08:20:46.681813Z",
          "iopub.execute_input": "2023-04-06T08:20:46.68233Z",
          "iopub.status.idle": "2023-04-06T08:20:54.140079Z",
          "shell.execute_reply.started": "2023-04-06T08:20:46.682192Z",
          "shell.execute_reply": "2023-04-06T08:20:54.138818Z"
        },
        "trusted": true,
        "id": "d07pSPwz9xxQ"
      },
      "execution_count": 1,
      "outputs": []
    },
    {
      "cell_type": "markdown",
      "source": [
        "**<font size=\"2\"><a href=\"#summary\">Back to summary</a></font>**\n",
        "\n",
        "----"
      ],
      "metadata": {
        "id": "3BUZJw7m9xxR"
      }
    },
    {
      "cell_type": "markdown",
      "source": [
        "<div id=\"chap2\"><h1 style=\"color:white;background:#5963ab;border-radius:5px;padding:30px;font-family:'Arial', cursive;font-size:50px;text-align:center\">Preprocessing</h1></div>"
      ],
      "metadata": {
        "id": "a40AAOPn9xxS"
      }
    },
    {
      "cell_type": "code",
      "source": [
        "from pandas_datareader import data as pdr\n",
        "\n",
        "import yfinance as yfin\n",
        "yfin.pdr_override()\n",
        "\n",
        "\n",
        "\n",
        "df = pdr.get_data_yahoo(\"^NSEI\", start=\"2020-11-1\", end=\"2023-09-01\")\n",
        "df.head()"
      ],
      "metadata": {
        "execution": {
          "iopub.status.busy": "2023-04-06T08:20:54.142984Z",
          "iopub.execute_input": "2023-04-06T08:20:54.143323Z",
          "iopub.status.idle": "2023-04-06T08:20:54.412372Z",
          "shell.execute_reply.started": "2023-04-06T08:20:54.143288Z",
          "shell.execute_reply": "2023-04-06T08:20:54.411532Z"
        },
        "trusted": true,
        "colab": {
          "base_uri": "https://localhost:8080/",
          "height": 255
        },
        "id": "j16l9LRC9xxS",
        "outputId": "e2b4e2b9-2950-4d4a-c864-620be59e76c8"
      },
      "execution_count": 2,
      "outputs": [
        {
          "output_type": "stream",
          "name": "stderr",
          "text": [
            "\r[*********************100%%**********************]  1 of 1 completed\n"
          ]
        },
        {
          "output_type": "execute_result",
          "data": {
            "text/plain": [
              "                    Open          High           Low         Close  \\\n",
              "Date                                                                 \n",
              "2020-11-02  11697.349609  11725.650391  11557.400391  11669.150391   \n",
              "2020-11-03  11734.450195  11836.200195  11723.299805  11813.500000   \n",
              "2020-11-04  11783.349609  11929.650391  11756.400391  11908.500000   \n",
              "2020-11-05  12062.400391  12131.099609  12027.599609  12120.299805   \n",
              "2020-11-06  12156.650391  12280.400391  12131.849609  12263.549805   \n",
              "\n",
              "               Adj Close  Volume  \n",
              "Date                              \n",
              "2020-11-02  11669.150391  568400  \n",
              "2020-11-03  11813.500000  674300  \n",
              "2020-11-04  11908.500000  667300  \n",
              "2020-11-05  12120.299805  632500  \n",
              "2020-11-06  12263.549805  576800  "
            ],
            "text/html": [
              "\n",
              "  <div id=\"df-f616c44a-7a08-48a6-8cd0-18fbcd425e93\" class=\"colab-df-container\">\n",
              "    <div>\n",
              "<style scoped>\n",
              "    .dataframe tbody tr th:only-of-type {\n",
              "        vertical-align: middle;\n",
              "    }\n",
              "\n",
              "    .dataframe tbody tr th {\n",
              "        vertical-align: top;\n",
              "    }\n",
              "\n",
              "    .dataframe thead th {\n",
              "        text-align: right;\n",
              "    }\n",
              "</style>\n",
              "<table border=\"1\" class=\"dataframe\">\n",
              "  <thead>\n",
              "    <tr style=\"text-align: right;\">\n",
              "      <th></th>\n",
              "      <th>Open</th>\n",
              "      <th>High</th>\n",
              "      <th>Low</th>\n",
              "      <th>Close</th>\n",
              "      <th>Adj Close</th>\n",
              "      <th>Volume</th>\n",
              "    </tr>\n",
              "    <tr>\n",
              "      <th>Date</th>\n",
              "      <th></th>\n",
              "      <th></th>\n",
              "      <th></th>\n",
              "      <th></th>\n",
              "      <th></th>\n",
              "      <th></th>\n",
              "    </tr>\n",
              "  </thead>\n",
              "  <tbody>\n",
              "    <tr>\n",
              "      <th>2020-11-02</th>\n",
              "      <td>11697.349609</td>\n",
              "      <td>11725.650391</td>\n",
              "      <td>11557.400391</td>\n",
              "      <td>11669.150391</td>\n",
              "      <td>11669.150391</td>\n",
              "      <td>568400</td>\n",
              "    </tr>\n",
              "    <tr>\n",
              "      <th>2020-11-03</th>\n",
              "      <td>11734.450195</td>\n",
              "      <td>11836.200195</td>\n",
              "      <td>11723.299805</td>\n",
              "      <td>11813.500000</td>\n",
              "      <td>11813.500000</td>\n",
              "      <td>674300</td>\n",
              "    </tr>\n",
              "    <tr>\n",
              "      <th>2020-11-04</th>\n",
              "      <td>11783.349609</td>\n",
              "      <td>11929.650391</td>\n",
              "      <td>11756.400391</td>\n",
              "      <td>11908.500000</td>\n",
              "      <td>11908.500000</td>\n",
              "      <td>667300</td>\n",
              "    </tr>\n",
              "    <tr>\n",
              "      <th>2020-11-05</th>\n",
              "      <td>12062.400391</td>\n",
              "      <td>12131.099609</td>\n",
              "      <td>12027.599609</td>\n",
              "      <td>12120.299805</td>\n",
              "      <td>12120.299805</td>\n",
              "      <td>632500</td>\n",
              "    </tr>\n",
              "    <tr>\n",
              "      <th>2020-11-06</th>\n",
              "      <td>12156.650391</td>\n",
              "      <td>12280.400391</td>\n",
              "      <td>12131.849609</td>\n",
              "      <td>12263.549805</td>\n",
              "      <td>12263.549805</td>\n",
              "      <td>576800</td>\n",
              "    </tr>\n",
              "  </tbody>\n",
              "</table>\n",
              "</div>\n",
              "    <div class=\"colab-df-buttons\">\n",
              "\n",
              "  <div class=\"colab-df-container\">\n",
              "    <button class=\"colab-df-convert\" onclick=\"convertToInteractive('df-f616c44a-7a08-48a6-8cd0-18fbcd425e93')\"\n",
              "            title=\"Convert this dataframe to an interactive table.\"\n",
              "            style=\"display:none;\">\n",
              "\n",
              "  <svg xmlns=\"http://www.w3.org/2000/svg\" height=\"24px\" viewBox=\"0 -960 960 960\">\n",
              "    <path d=\"M120-120v-720h720v720H120Zm60-500h600v-160H180v160Zm220 220h160v-160H400v160Zm0 220h160v-160H400v160ZM180-400h160v-160H180v160Zm440 0h160v-160H620v160ZM180-180h160v-160H180v160Zm440 0h160v-160H620v160Z\"/>\n",
              "  </svg>\n",
              "    </button>\n",
              "\n",
              "  <style>\n",
              "    .colab-df-container {\n",
              "      display:flex;\n",
              "      gap: 12px;\n",
              "    }\n",
              "\n",
              "    .colab-df-convert {\n",
              "      background-color: #E8F0FE;\n",
              "      border: none;\n",
              "      border-radius: 50%;\n",
              "      cursor: pointer;\n",
              "      display: none;\n",
              "      fill: #1967D2;\n",
              "      height: 32px;\n",
              "      padding: 0 0 0 0;\n",
              "      width: 32px;\n",
              "    }\n",
              "\n",
              "    .colab-df-convert:hover {\n",
              "      background-color: #E2EBFA;\n",
              "      box-shadow: 0px 1px 2px rgba(60, 64, 67, 0.3), 0px 1px 3px 1px rgba(60, 64, 67, 0.15);\n",
              "      fill: #174EA6;\n",
              "    }\n",
              "\n",
              "    .colab-df-buttons div {\n",
              "      margin-bottom: 4px;\n",
              "    }\n",
              "\n",
              "    [theme=dark] .colab-df-convert {\n",
              "      background-color: #3B4455;\n",
              "      fill: #D2E3FC;\n",
              "    }\n",
              "\n",
              "    [theme=dark] .colab-df-convert:hover {\n",
              "      background-color: #434B5C;\n",
              "      box-shadow: 0px 1px 3px 1px rgba(0, 0, 0, 0.15);\n",
              "      filter: drop-shadow(0px 1px 2px rgba(0, 0, 0, 0.3));\n",
              "      fill: #FFFFFF;\n",
              "    }\n",
              "  </style>\n",
              "\n",
              "    <script>\n",
              "      const buttonEl =\n",
              "        document.querySelector('#df-f616c44a-7a08-48a6-8cd0-18fbcd425e93 button.colab-df-convert');\n",
              "      buttonEl.style.display =\n",
              "        google.colab.kernel.accessAllowed ? 'block' : 'none';\n",
              "\n",
              "      async function convertToInteractive(key) {\n",
              "        const element = document.querySelector('#df-f616c44a-7a08-48a6-8cd0-18fbcd425e93');\n",
              "        const dataTable =\n",
              "          await google.colab.kernel.invokeFunction('convertToInteractive',\n",
              "                                                    [key], {});\n",
              "        if (!dataTable) return;\n",
              "\n",
              "        const docLinkHtml = 'Like what you see? Visit the ' +\n",
              "          '<a target=\"_blank\" href=https://colab.research.google.com/notebooks/data_table.ipynb>data table notebook</a>'\n",
              "          + ' to learn more about interactive tables.';\n",
              "        element.innerHTML = '';\n",
              "        dataTable['output_type'] = 'display_data';\n",
              "        await google.colab.output.renderOutput(dataTable, element);\n",
              "        const docLink = document.createElement('div');\n",
              "        docLink.innerHTML = docLinkHtml;\n",
              "        element.appendChild(docLink);\n",
              "      }\n",
              "    </script>\n",
              "  </div>\n",
              "\n",
              "\n",
              "<div id=\"df-3d92eaff-6bf5-4cce-8749-9df04c52a33e\">\n",
              "  <button class=\"colab-df-quickchart\" onclick=\"quickchart('df-3d92eaff-6bf5-4cce-8749-9df04c52a33e')\"\n",
              "            title=\"Suggest charts\"\n",
              "            style=\"display:none;\">\n",
              "\n",
              "<svg xmlns=\"http://www.w3.org/2000/svg\" height=\"24px\"viewBox=\"0 0 24 24\"\n",
              "     width=\"24px\">\n",
              "    <g>\n",
              "        <path d=\"M19 3H5c-1.1 0-2 .9-2 2v14c0 1.1.9 2 2 2h14c1.1 0 2-.9 2-2V5c0-1.1-.9-2-2-2zM9 17H7v-7h2v7zm4 0h-2V7h2v10zm4 0h-2v-4h2v4z\"/>\n",
              "    </g>\n",
              "</svg>\n",
              "  </button>\n",
              "\n",
              "<style>\n",
              "  .colab-df-quickchart {\n",
              "      --bg-color: #E8F0FE;\n",
              "      --fill-color: #1967D2;\n",
              "      --hover-bg-color: #E2EBFA;\n",
              "      --hover-fill-color: #174EA6;\n",
              "      --disabled-fill-color: #AAA;\n",
              "      --disabled-bg-color: #DDD;\n",
              "  }\n",
              "\n",
              "  [theme=dark] .colab-df-quickchart {\n",
              "      --bg-color: #3B4455;\n",
              "      --fill-color: #D2E3FC;\n",
              "      --hover-bg-color: #434B5C;\n",
              "      --hover-fill-color: #FFFFFF;\n",
              "      --disabled-bg-color: #3B4455;\n",
              "      --disabled-fill-color: #666;\n",
              "  }\n",
              "\n",
              "  .colab-df-quickchart {\n",
              "    background-color: var(--bg-color);\n",
              "    border: none;\n",
              "    border-radius: 50%;\n",
              "    cursor: pointer;\n",
              "    display: none;\n",
              "    fill: var(--fill-color);\n",
              "    height: 32px;\n",
              "    padding: 0;\n",
              "    width: 32px;\n",
              "  }\n",
              "\n",
              "  .colab-df-quickchart:hover {\n",
              "    background-color: var(--hover-bg-color);\n",
              "    box-shadow: 0 1px 2px rgba(60, 64, 67, 0.3), 0 1px 3px 1px rgba(60, 64, 67, 0.15);\n",
              "    fill: var(--button-hover-fill-color);\n",
              "  }\n",
              "\n",
              "  .colab-df-quickchart-complete:disabled,\n",
              "  .colab-df-quickchart-complete:disabled:hover {\n",
              "    background-color: var(--disabled-bg-color);\n",
              "    fill: var(--disabled-fill-color);\n",
              "    box-shadow: none;\n",
              "  }\n",
              "\n",
              "  .colab-df-spinner {\n",
              "    border: 2px solid var(--fill-color);\n",
              "    border-color: transparent;\n",
              "    border-bottom-color: var(--fill-color);\n",
              "    animation:\n",
              "      spin 1s steps(1) infinite;\n",
              "  }\n",
              "\n",
              "  @keyframes spin {\n",
              "    0% {\n",
              "      border-color: transparent;\n",
              "      border-bottom-color: var(--fill-color);\n",
              "      border-left-color: var(--fill-color);\n",
              "    }\n",
              "    20% {\n",
              "      border-color: transparent;\n",
              "      border-left-color: var(--fill-color);\n",
              "      border-top-color: var(--fill-color);\n",
              "    }\n",
              "    30% {\n",
              "      border-color: transparent;\n",
              "      border-left-color: var(--fill-color);\n",
              "      border-top-color: var(--fill-color);\n",
              "      border-right-color: var(--fill-color);\n",
              "    }\n",
              "    40% {\n",
              "      border-color: transparent;\n",
              "      border-right-color: var(--fill-color);\n",
              "      border-top-color: var(--fill-color);\n",
              "    }\n",
              "    60% {\n",
              "      border-color: transparent;\n",
              "      border-right-color: var(--fill-color);\n",
              "    }\n",
              "    80% {\n",
              "      border-color: transparent;\n",
              "      border-right-color: var(--fill-color);\n",
              "      border-bottom-color: var(--fill-color);\n",
              "    }\n",
              "    90% {\n",
              "      border-color: transparent;\n",
              "      border-bottom-color: var(--fill-color);\n",
              "    }\n",
              "  }\n",
              "</style>\n",
              "\n",
              "  <script>\n",
              "    async function quickchart(key) {\n",
              "      const quickchartButtonEl =\n",
              "        document.querySelector('#' + key + ' button');\n",
              "      quickchartButtonEl.disabled = true;  // To prevent multiple clicks.\n",
              "      quickchartButtonEl.classList.add('colab-df-spinner');\n",
              "      try {\n",
              "        const charts = await google.colab.kernel.invokeFunction(\n",
              "            'suggestCharts', [key], {});\n",
              "      } catch (error) {\n",
              "        console.error('Error during call to suggestCharts:', error);\n",
              "      }\n",
              "      quickchartButtonEl.classList.remove('colab-df-spinner');\n",
              "      quickchartButtonEl.classList.add('colab-df-quickchart-complete');\n",
              "    }\n",
              "    (() => {\n",
              "      let quickchartButtonEl =\n",
              "        document.querySelector('#df-3d92eaff-6bf5-4cce-8749-9df04c52a33e button');\n",
              "      quickchartButtonEl.style.display =\n",
              "        google.colab.kernel.accessAllowed ? 'block' : 'none';\n",
              "    })();\n",
              "  </script>\n",
              "</div>\n",
              "\n",
              "    </div>\n",
              "  </div>\n"
            ],
            "application/vnd.google.colaboratory.intrinsic+json": {
              "type": "dataframe",
              "variable_name": "df",
              "summary": "{\n  \"name\": \"df\",\n  \"rows\": 702,\n  \"fields\": [\n    {\n      \"column\": \"Date\",\n      \"properties\": {\n        \"dtype\": \"date\",\n        \"min\": \"2020-11-02 00:00:00\",\n        \"max\": \"2023-08-31 00:00:00\",\n        \"num_unique_values\": 702,\n        \"samples\": [\n          \"2022-10-31 00:00:00\",\n          \"2021-07-02 00:00:00\",\n          \"2021-01-20 00:00:00\"\n        ],\n        \"semantic_type\": \"\",\n        \"description\": \"\"\n      }\n    },\n    {\n      \"column\": \"Open\",\n      \"properties\": {\n        \"dtype\": \"number\",\n        \"std\": 1634.6912930548422,\n        \"min\": 11697.349609375,\n        \"max\": 19850.900390625,\n        \"num_unique_values\": 702,\n        \"samples\": [\n          17910.19921875,\n          15705.849609375,\n          14538.2998046875\n        ],\n        \"semantic_type\": \"\",\n        \"description\": \"\"\n      }\n    },\n    {\n      \"column\": \"High\",\n      \"properties\": {\n        \"dtype\": \"number\",\n        \"std\": 1629.3265907403925,\n        \"min\": 11725.650390625,\n        \"max\": 19991.849609375,\n        \"num_unique_values\": 701,\n        \"samples\": [\n          19678.25,\n          15738.349609375,\n          14666.4501953125\n        ],\n        \"semantic_type\": \"\",\n        \"description\": \"\"\n      }\n    },\n    {\n      \"column\": \"Low\",\n      \"properties\": {\n        \"dtype\": \"number\",\n        \"std\": 1639.4305276586272,\n        \"min\": 11557.400390625,\n        \"max\": 19758.400390625,\n        \"num_unique_values\": 701,\n        \"samples\": [\n          19423.55078125,\n          15635.9501953125,\n          14517.5498046875\n        ],\n        \"semantic_type\": \"\",\n        \"description\": \"\"\n      }\n    },\n    {\n      \"column\": \"Close\",\n      \"properties\": {\n        \"dtype\": \"number\",\n        \"std\": 1630.5696583838749,\n        \"min\": 11669.150390625,\n        \"max\": 19979.150390625,\n        \"num_unique_values\": 699,\n        \"samples\": [\n          15860.349609375,\n          18349.69921875,\n          15774.400390625\n        ],\n        \"semantic_type\": \"\",\n        \"description\": \"\"\n      }\n    },\n    {\n      \"column\": \"Adj Close\",\n      \"properties\": {\n        \"dtype\": \"number\",\n        \"std\": 1630.5696583838749,\n        \"min\": 11669.150390625,\n        \"max\": 19979.150390625,\n        \"num_unique_values\": 699,\n        \"samples\": [\n          15860.349609375,\n          18349.69921875,\n          15774.400390625\n        ],\n        \"semantic_type\": \"\",\n        \"description\": \"\"\n      }\n    },\n    {\n      \"column\": \"Volume\",\n      \"properties\": {\n        \"dtype\": \"number\",\n        \"std\": 161421,\n        \"min\": 0,\n        \"max\": 1162400,\n        \"num_unique_values\": 630,\n        \"samples\": [\n          221500,\n          48500,\n          248300\n        ],\n        \"semantic_type\": \"\",\n        \"description\": \"\"\n      }\n    }\n  ]\n}"
            }
          },
          "metadata": {},
          "execution_count": 2
        }
      ]
    },
    {
      "cell_type": "code",
      "source": [],
      "metadata": {
        "execution": {
          "iopub.status.busy": "2023-04-06T08:20:54.421941Z",
          "iopub.execute_input": "2023-04-06T08:20:54.422255Z",
          "iopub.status.idle": "2023-04-06T08:20:54.433875Z",
          "shell.execute_reply.started": "2023-04-06T08:20:54.422222Z",
          "shell.execute_reply": "2023-04-06T08:20:54.432494Z"
        },
        "trusted": true,
        "id": "cjBYBDdG9xxT"
      },
      "execution_count": null,
      "outputs": []
    },
    {
      "cell_type": "code",
      "source": [],
      "metadata": {
        "execution": {
          "iopub.status.busy": "2023-04-06T08:20:54.437876Z",
          "iopub.execute_input": "2023-04-06T08:20:54.4385Z",
          "iopub.status.idle": "2023-04-06T08:20:54.474558Z",
          "shell.execute_reply.started": "2023-04-06T08:20:54.438452Z",
          "shell.execute_reply": "2023-04-06T08:20:54.473409Z"
        },
        "trusted": true,
        "id": "1lUteXxj9xxT"
      },
      "execution_count": null,
      "outputs": []
    },
    {
      "cell_type": "code",
      "source": [
        "df = df.filter(['Date','Close'])\n",
        "df.columns = ['price']\n",
        "df.head(10)"
      ],
      "metadata": {
        "colab": {
          "base_uri": "https://localhost:8080/",
          "height": 394
        },
        "id": "AXkfqdN4jI8-",
        "outputId": "ace7493d-7c6b-413d-930d-19cfebd861ce"
      },
      "execution_count": 3,
      "outputs": [
        {
          "output_type": "execute_result",
          "data": {
            "text/plain": [
              "                   price\n",
              "Date                    \n",
              "2020-11-02  11669.150391\n",
              "2020-11-03  11813.500000\n",
              "2020-11-04  11908.500000\n",
              "2020-11-05  12120.299805\n",
              "2020-11-06  12263.549805\n",
              "2020-11-09  12461.049805\n",
              "2020-11-10  12631.099609\n",
              "2020-11-11  12749.150391\n",
              "2020-11-12  12690.799805\n",
              "2020-11-13  12719.950195"
            ],
            "text/html": [
              "\n",
              "  <div id=\"df-bfa3083a-f51c-42f8-a0c2-97587d33bfe9\" class=\"colab-df-container\">\n",
              "    <div>\n",
              "<style scoped>\n",
              "    .dataframe tbody tr th:only-of-type {\n",
              "        vertical-align: middle;\n",
              "    }\n",
              "\n",
              "    .dataframe tbody tr th {\n",
              "        vertical-align: top;\n",
              "    }\n",
              "\n",
              "    .dataframe thead th {\n",
              "        text-align: right;\n",
              "    }\n",
              "</style>\n",
              "<table border=\"1\" class=\"dataframe\">\n",
              "  <thead>\n",
              "    <tr style=\"text-align: right;\">\n",
              "      <th></th>\n",
              "      <th>price</th>\n",
              "    </tr>\n",
              "    <tr>\n",
              "      <th>Date</th>\n",
              "      <th></th>\n",
              "    </tr>\n",
              "  </thead>\n",
              "  <tbody>\n",
              "    <tr>\n",
              "      <th>2020-11-02</th>\n",
              "      <td>11669.150391</td>\n",
              "    </tr>\n",
              "    <tr>\n",
              "      <th>2020-11-03</th>\n",
              "      <td>11813.500000</td>\n",
              "    </tr>\n",
              "    <tr>\n",
              "      <th>2020-11-04</th>\n",
              "      <td>11908.500000</td>\n",
              "    </tr>\n",
              "    <tr>\n",
              "      <th>2020-11-05</th>\n",
              "      <td>12120.299805</td>\n",
              "    </tr>\n",
              "    <tr>\n",
              "      <th>2020-11-06</th>\n",
              "      <td>12263.549805</td>\n",
              "    </tr>\n",
              "    <tr>\n",
              "      <th>2020-11-09</th>\n",
              "      <td>12461.049805</td>\n",
              "    </tr>\n",
              "    <tr>\n",
              "      <th>2020-11-10</th>\n",
              "      <td>12631.099609</td>\n",
              "    </tr>\n",
              "    <tr>\n",
              "      <th>2020-11-11</th>\n",
              "      <td>12749.150391</td>\n",
              "    </tr>\n",
              "    <tr>\n",
              "      <th>2020-11-12</th>\n",
              "      <td>12690.799805</td>\n",
              "    </tr>\n",
              "    <tr>\n",
              "      <th>2020-11-13</th>\n",
              "      <td>12719.950195</td>\n",
              "    </tr>\n",
              "  </tbody>\n",
              "</table>\n",
              "</div>\n",
              "    <div class=\"colab-df-buttons\">\n",
              "\n",
              "  <div class=\"colab-df-container\">\n",
              "    <button class=\"colab-df-convert\" onclick=\"convertToInteractive('df-bfa3083a-f51c-42f8-a0c2-97587d33bfe9')\"\n",
              "            title=\"Convert this dataframe to an interactive table.\"\n",
              "            style=\"display:none;\">\n",
              "\n",
              "  <svg xmlns=\"http://www.w3.org/2000/svg\" height=\"24px\" viewBox=\"0 -960 960 960\">\n",
              "    <path d=\"M120-120v-720h720v720H120Zm60-500h600v-160H180v160Zm220 220h160v-160H400v160Zm0 220h160v-160H400v160ZM180-400h160v-160H180v160Zm440 0h160v-160H620v160ZM180-180h160v-160H180v160Zm440 0h160v-160H620v160Z\"/>\n",
              "  </svg>\n",
              "    </button>\n",
              "\n",
              "  <style>\n",
              "    .colab-df-container {\n",
              "      display:flex;\n",
              "      gap: 12px;\n",
              "    }\n",
              "\n",
              "    .colab-df-convert {\n",
              "      background-color: #E8F0FE;\n",
              "      border: none;\n",
              "      border-radius: 50%;\n",
              "      cursor: pointer;\n",
              "      display: none;\n",
              "      fill: #1967D2;\n",
              "      height: 32px;\n",
              "      padding: 0 0 0 0;\n",
              "      width: 32px;\n",
              "    }\n",
              "\n",
              "    .colab-df-convert:hover {\n",
              "      background-color: #E2EBFA;\n",
              "      box-shadow: 0px 1px 2px rgba(60, 64, 67, 0.3), 0px 1px 3px 1px rgba(60, 64, 67, 0.15);\n",
              "      fill: #174EA6;\n",
              "    }\n",
              "\n",
              "    .colab-df-buttons div {\n",
              "      margin-bottom: 4px;\n",
              "    }\n",
              "\n",
              "    [theme=dark] .colab-df-convert {\n",
              "      background-color: #3B4455;\n",
              "      fill: #D2E3FC;\n",
              "    }\n",
              "\n",
              "    [theme=dark] .colab-df-convert:hover {\n",
              "      background-color: #434B5C;\n",
              "      box-shadow: 0px 1px 3px 1px rgba(0, 0, 0, 0.15);\n",
              "      filter: drop-shadow(0px 1px 2px rgba(0, 0, 0, 0.3));\n",
              "      fill: #FFFFFF;\n",
              "    }\n",
              "  </style>\n",
              "\n",
              "    <script>\n",
              "      const buttonEl =\n",
              "        document.querySelector('#df-bfa3083a-f51c-42f8-a0c2-97587d33bfe9 button.colab-df-convert');\n",
              "      buttonEl.style.display =\n",
              "        google.colab.kernel.accessAllowed ? 'block' : 'none';\n",
              "\n",
              "      async function convertToInteractive(key) {\n",
              "        const element = document.querySelector('#df-bfa3083a-f51c-42f8-a0c2-97587d33bfe9');\n",
              "        const dataTable =\n",
              "          await google.colab.kernel.invokeFunction('convertToInteractive',\n",
              "                                                    [key], {});\n",
              "        if (!dataTable) return;\n",
              "\n",
              "        const docLinkHtml = 'Like what you see? Visit the ' +\n",
              "          '<a target=\"_blank\" href=https://colab.research.google.com/notebooks/data_table.ipynb>data table notebook</a>'\n",
              "          + ' to learn more about interactive tables.';\n",
              "        element.innerHTML = '';\n",
              "        dataTable['output_type'] = 'display_data';\n",
              "        await google.colab.output.renderOutput(dataTable, element);\n",
              "        const docLink = document.createElement('div');\n",
              "        docLink.innerHTML = docLinkHtml;\n",
              "        element.appendChild(docLink);\n",
              "      }\n",
              "    </script>\n",
              "  </div>\n",
              "\n",
              "\n",
              "<div id=\"df-d5d33d34-ad2e-4f47-9d18-ecfb7b000a9e\">\n",
              "  <button class=\"colab-df-quickchart\" onclick=\"quickchart('df-d5d33d34-ad2e-4f47-9d18-ecfb7b000a9e')\"\n",
              "            title=\"Suggest charts\"\n",
              "            style=\"display:none;\">\n",
              "\n",
              "<svg xmlns=\"http://www.w3.org/2000/svg\" height=\"24px\"viewBox=\"0 0 24 24\"\n",
              "     width=\"24px\">\n",
              "    <g>\n",
              "        <path d=\"M19 3H5c-1.1 0-2 .9-2 2v14c0 1.1.9 2 2 2h14c1.1 0 2-.9 2-2V5c0-1.1-.9-2-2-2zM9 17H7v-7h2v7zm4 0h-2V7h2v10zm4 0h-2v-4h2v4z\"/>\n",
              "    </g>\n",
              "</svg>\n",
              "  </button>\n",
              "\n",
              "<style>\n",
              "  .colab-df-quickchart {\n",
              "      --bg-color: #E8F0FE;\n",
              "      --fill-color: #1967D2;\n",
              "      --hover-bg-color: #E2EBFA;\n",
              "      --hover-fill-color: #174EA6;\n",
              "      --disabled-fill-color: #AAA;\n",
              "      --disabled-bg-color: #DDD;\n",
              "  }\n",
              "\n",
              "  [theme=dark] .colab-df-quickchart {\n",
              "      --bg-color: #3B4455;\n",
              "      --fill-color: #D2E3FC;\n",
              "      --hover-bg-color: #434B5C;\n",
              "      --hover-fill-color: #FFFFFF;\n",
              "      --disabled-bg-color: #3B4455;\n",
              "      --disabled-fill-color: #666;\n",
              "  }\n",
              "\n",
              "  .colab-df-quickchart {\n",
              "    background-color: var(--bg-color);\n",
              "    border: none;\n",
              "    border-radius: 50%;\n",
              "    cursor: pointer;\n",
              "    display: none;\n",
              "    fill: var(--fill-color);\n",
              "    height: 32px;\n",
              "    padding: 0;\n",
              "    width: 32px;\n",
              "  }\n",
              "\n",
              "  .colab-df-quickchart:hover {\n",
              "    background-color: var(--hover-bg-color);\n",
              "    box-shadow: 0 1px 2px rgba(60, 64, 67, 0.3), 0 1px 3px 1px rgba(60, 64, 67, 0.15);\n",
              "    fill: var(--button-hover-fill-color);\n",
              "  }\n",
              "\n",
              "  .colab-df-quickchart-complete:disabled,\n",
              "  .colab-df-quickchart-complete:disabled:hover {\n",
              "    background-color: var(--disabled-bg-color);\n",
              "    fill: var(--disabled-fill-color);\n",
              "    box-shadow: none;\n",
              "  }\n",
              "\n",
              "  .colab-df-spinner {\n",
              "    border: 2px solid var(--fill-color);\n",
              "    border-color: transparent;\n",
              "    border-bottom-color: var(--fill-color);\n",
              "    animation:\n",
              "      spin 1s steps(1) infinite;\n",
              "  }\n",
              "\n",
              "  @keyframes spin {\n",
              "    0% {\n",
              "      border-color: transparent;\n",
              "      border-bottom-color: var(--fill-color);\n",
              "      border-left-color: var(--fill-color);\n",
              "    }\n",
              "    20% {\n",
              "      border-color: transparent;\n",
              "      border-left-color: var(--fill-color);\n",
              "      border-top-color: var(--fill-color);\n",
              "    }\n",
              "    30% {\n",
              "      border-color: transparent;\n",
              "      border-left-color: var(--fill-color);\n",
              "      border-top-color: var(--fill-color);\n",
              "      border-right-color: var(--fill-color);\n",
              "    }\n",
              "    40% {\n",
              "      border-color: transparent;\n",
              "      border-right-color: var(--fill-color);\n",
              "      border-top-color: var(--fill-color);\n",
              "    }\n",
              "    60% {\n",
              "      border-color: transparent;\n",
              "      border-right-color: var(--fill-color);\n",
              "    }\n",
              "    80% {\n",
              "      border-color: transparent;\n",
              "      border-right-color: var(--fill-color);\n",
              "      border-bottom-color: var(--fill-color);\n",
              "    }\n",
              "    90% {\n",
              "      border-color: transparent;\n",
              "      border-bottom-color: var(--fill-color);\n",
              "    }\n",
              "  }\n",
              "</style>\n",
              "\n",
              "  <script>\n",
              "    async function quickchart(key) {\n",
              "      const quickchartButtonEl =\n",
              "        document.querySelector('#' + key + ' button');\n",
              "      quickchartButtonEl.disabled = true;  // To prevent multiple clicks.\n",
              "      quickchartButtonEl.classList.add('colab-df-spinner');\n",
              "      try {\n",
              "        const charts = await google.colab.kernel.invokeFunction(\n",
              "            'suggestCharts', [key], {});\n",
              "      } catch (error) {\n",
              "        console.error('Error during call to suggestCharts:', error);\n",
              "      }\n",
              "      quickchartButtonEl.classList.remove('colab-df-spinner');\n",
              "      quickchartButtonEl.classList.add('colab-df-quickchart-complete');\n",
              "    }\n",
              "    (() => {\n",
              "      let quickchartButtonEl =\n",
              "        document.querySelector('#df-d5d33d34-ad2e-4f47-9d18-ecfb7b000a9e button');\n",
              "      quickchartButtonEl.style.display =\n",
              "        google.colab.kernel.accessAllowed ? 'block' : 'none';\n",
              "    })();\n",
              "  </script>\n",
              "</div>\n",
              "\n",
              "    </div>\n",
              "  </div>\n"
            ],
            "application/vnd.google.colaboratory.intrinsic+json": {
              "type": "dataframe",
              "variable_name": "df",
              "summary": "{\n  \"name\": \"df\",\n  \"rows\": 702,\n  \"fields\": [\n    {\n      \"column\": \"Date\",\n      \"properties\": {\n        \"dtype\": \"date\",\n        \"min\": \"2020-11-02 00:00:00\",\n        \"max\": \"2023-08-31 00:00:00\",\n        \"num_unique_values\": 702,\n        \"samples\": [\n          \"2022-10-31 00:00:00\",\n          \"2021-07-02 00:00:00\",\n          \"2021-01-20 00:00:00\"\n        ],\n        \"semantic_type\": \"\",\n        \"description\": \"\"\n      }\n    },\n    {\n      \"column\": \"price\",\n      \"properties\": {\n        \"dtype\": \"number\",\n        \"std\": 1630.5696583838749,\n        \"min\": 11669.150390625,\n        \"max\": 19979.150390625,\n        \"num_unique_values\": 699,\n        \"samples\": [\n          15860.349609375,\n          18349.69921875,\n          15774.400390625\n        ],\n        \"semantic_type\": \"\",\n        \"description\": \"\"\n      }\n    }\n  ]\n}"
            }
          },
          "metadata": {},
          "execution_count": 3
        }
      ]
    },
    {
      "cell_type": "code",
      "source": [
        "# Normalize data\n",
        "scaler = MinMaxScaler(feature_range=(0,1))\n",
        "scaled_data = scaler.fit_transform(df.filter(['price']))"
      ],
      "metadata": {
        "execution": {
          "iopub.status.busy": "2023-04-06T08:20:54.476397Z",
          "iopub.execute_input": "2023-04-06T08:20:54.476839Z",
          "iopub.status.idle": "2023-04-06T08:20:54.483483Z",
          "shell.execute_reply.started": "2023-04-06T08:20:54.476797Z",
          "shell.execute_reply": "2023-04-06T08:20:54.482331Z"
        },
        "trusted": true,
        "id": "w_f-KtAT9xxT"
      },
      "execution_count": 4,
      "outputs": []
    },
    {
      "cell_type": "code",
      "source": [
        "features = scaled_data\n",
        "target = scaled_data[:,0]"
      ],
      "metadata": {
        "id": "HLfrlk1zinSx"
      },
      "execution_count": 5,
      "outputs": []
    },
    {
      "cell_type": "code",
      "source": [
        "from tensorflow.keras.preprocessing.sequence import TimeseriesGenerator\n",
        "from sklearn.model_selection import train_test_split"
      ],
      "metadata": {
        "id": "zc4bStx9jlJ7"
      },
      "execution_count": 6,
      "outputs": []
    },
    {
      "cell_type": "code",
      "source": [
        "x_train, x_test, y_train, y_test = train_test_split(features, target, test_size = 0.2, shuffle = False)"
      ],
      "metadata": {
        "id": "jaD1ThYvj9Ns"
      },
      "execution_count": 7,
      "outputs": []
    },
    {
      "cell_type": "code",
      "source": [
        "win_l = 10\n",
        "num_f = 1\n",
        "train_gen = TimeseriesGenerator(x_train, y_train, length = win_l, sampling_rate = 1, batch_size=32)\n",
        "test_gen = TimeseriesGenerator(x_test, y_test, length = win_l, sampling_rate = 1, batch_size=32)"
      ],
      "metadata": {
        "id": "p4HI-q5hkwej"
      },
      "execution_count": 8,
      "outputs": []
    },
    {
      "cell_type": "code",
      "source": [
        "train_gen[0]"
      ],
      "metadata": {
        "colab": {
          "base_uri": "https://localhost:8080/"
        },
        "id": "Vz4y80crlNnl",
        "outputId": "0e87aa3c-4257-4faa-f039-745c7e0b284e"
      },
      "execution_count": null,
      "outputs": [
        {
          "output_type": "execute_result",
          "data": {
            "text/plain": [
              "(array([[[0.        , 0.37350659],\n",
              "         [0.01737059, 0.55784442],\n",
              "         [0.0288026 , 0.69699147],\n",
              "         [0.05428994, 0.39346016],\n",
              "         [0.07152821, 0.88424488],\n",
              "         [0.09529476, 0.33544724],\n",
              "         [0.11575803, 0.31538369],\n",
              "         [0.1299639 , 0.63090876],\n",
              "         [0.12294217, 0.81190757],\n",
              "         [0.12645004, 0.15366987]],\n",
              " \n",
              "        [[0.01737059, 0.55784442],\n",
              "         [0.0288026 , 0.69699147],\n",
              "         [0.05428994, 0.39346016],\n",
              "         [0.07152821, 0.88424488],\n",
              "         [0.09529476, 0.33544724],\n",
              "         [0.11575803, 0.31538369],\n",
              "         [0.1299639 , 0.63090876],\n",
              "         [0.12294217, 0.81190757],\n",
              "         [0.12645004, 0.15366987],\n",
              "         [0.14501201, 0.25379333]],\n",
              " \n",
              "        [[0.0288026 , 0.69699147],\n",
              "         [0.05428994, 0.39346016],\n",
              "         [0.07152821, 0.88424488],\n",
              "         [0.09529476, 0.33544724],\n",
              "         [0.11575803, 0.31538369],\n",
              "         [0.1299639 , 0.63090876],\n",
              "         [0.12294217, 0.81190757],\n",
              "         [0.12645004, 0.15366987],\n",
              "         [0.14501201, 0.25379333],\n",
              "         [0.15271957, 0.25686094]],\n",
              " \n",
              "        [[0.05428994, 0.39346016],\n",
              "         [0.07152821, 0.88424488],\n",
              "         [0.09529476, 0.33544724],\n",
              "         [0.11575803, 0.31538369],\n",
              "         [0.1299639 , 0.63090876],\n",
              "         [0.12294217, 0.81190757],\n",
              "         [0.12645004, 0.15366987],\n",
              "         [0.14501201, 0.25379333],\n",
              "         [0.15271957, 0.25686094],\n",
              "         [0.13267747, 0.47199658]],\n",
              " \n",
              "        [[0.07152821, 0.88424488],\n",
              "         [0.09529476, 0.33544724],\n",
              "         [0.11575803, 0.31538369],\n",
              "         [0.1299639 , 0.63090876],\n",
              "         [0.12294217, 0.81190757],\n",
              "         [0.12645004, 0.15366987],\n",
              "         [0.14501201, 0.25379333],\n",
              "         [0.15271957, 0.25686094],\n",
              "         [0.13267747, 0.47199658],\n",
              "         [0.14318886, 0.92294839]],\n",
              " \n",
              "        [[0.09529476, 0.33544724],\n",
              "         [0.11575803, 0.31538369],\n",
              "         [0.1299639 , 0.63090876],\n",
              "         [0.12294217, 0.81190757],\n",
              "         [0.12645004, 0.15366987],\n",
              "         [0.14501201, 0.25379333],\n",
              "         [0.15271957, 0.25686094],\n",
              "         [0.13267747, 0.47199658],\n",
              "         [0.14318886, 0.92294839],\n",
              "         [0.15129962, 0.38523399]],\n",
              " \n",
              "        [[0.11575803, 0.31538369],\n",
              "         [0.1299639 , 0.63090876],\n",
              "         [0.12294217, 0.81190757],\n",
              "         [0.12645004, 0.15366987],\n",
              "         [0.14501201, 0.25379333],\n",
              "         [0.15271957, 0.25686094],\n",
              "         [0.13267747, 0.47199658],\n",
              "         [0.14318886, 0.92294839],\n",
              "         [0.15129962, 0.38523399],\n",
              "         [0.166787  , 0.42585659]],\n",
              " \n",
              "        [[0.1299639 , 0.63090876],\n",
              "         [0.12294217, 0.81190757],\n",
              "         [0.12645004, 0.15366987],\n",
              "         [0.14501201, 0.25379333],\n",
              "         [0.15271957, 0.25686094],\n",
              "         [0.13267747, 0.47199658],\n",
              "         [0.14318886, 0.92294839],\n",
              "         [0.15129962, 0.38523399],\n",
              "         [0.166787  , 0.42585659],\n",
              "         [0.14311071, 0.45024785]],\n",
              " \n",
              "        [[0.12294217, 0.81190757],\n",
              "         [0.12645004, 0.15366987],\n",
              "         [0.14501201, 0.25379333],\n",
              "         [0.15271957, 0.25686094],\n",
              "         [0.13267747, 0.47199658],\n",
              "         [0.14318886, 0.92294839],\n",
              "         [0.15129962, 0.38523399],\n",
              "         [0.166787  , 0.42585659],\n",
              "         [0.14311071, 0.45024785],\n",
              "         [0.15858599, 0.28919378]],\n",
              " \n",
              "        [[0.12645004, 0.15366987],\n",
              "         [0.14501201, 0.25379333],\n",
              "         [0.15271957, 0.25686094],\n",
              "         [0.13267747, 0.47199658],\n",
              "         [0.14318886, 0.92294839],\n",
              "         [0.15129962, 0.38523399],\n",
              "         [0.166787  , 0.42585659],\n",
              "         [0.14311071, 0.45024785],\n",
              "         [0.15858599, 0.28919378],\n",
              "         [0.15641394, 0.34750327]],\n",
              " \n",
              "        [[0.14501201, 0.25379333],\n",
              "         [0.15271957, 0.25686094],\n",
              "         [0.13267747, 0.47199658],\n",
              "         [0.14318886, 0.92294839],\n",
              "         [0.15129962, 0.38523399],\n",
              "         [0.166787  , 0.42585659],\n",
              "         [0.14311071, 0.45024785],\n",
              "         [0.15858599, 0.28919378],\n",
              "         [0.15641394, 0.34750327],\n",
              "         [0.17327309, 0.97087474]],\n",
              " \n",
              "        [[0.15271957, 0.25686094],\n",
              "         [0.13267747, 0.47199658],\n",
              "         [0.14318886, 0.92294839],\n",
              "         [0.15129962, 0.38523399],\n",
              "         [0.166787  , 0.42585659],\n",
              "         [0.14311071, 0.45024785],\n",
              "         [0.15858599, 0.28919378],\n",
              "         [0.15641394, 0.34750327],\n",
              "         [0.17327309, 0.97087474],\n",
              "         [0.1738387 , 0.05622837]],\n",
              " \n",
              "        [[0.13267747, 0.47199658],\n",
              "         [0.14318886, 0.92294839],\n",
              "         [0.15129962, 0.38523399],\n",
              "         [0.166787  , 0.42585659],\n",
              "         [0.14311071, 0.45024785],\n",
              "         [0.15858599, 0.28919378],\n",
              "         [0.15641394, 0.34750327],\n",
              "         [0.17327309, 0.97087474],\n",
              "         [0.1738387 , 0.05622837],\n",
              "         [0.17626354, 0.35866611]],\n",
              " \n",
              "        [[0.14318886, 0.92294839],\n",
              "         [0.15129962, 0.38523399],\n",
              "         [0.166787  , 0.42585659],\n",
              "         [0.14311071, 0.45024785],\n",
              "         [0.15858599, 0.28919378],\n",
              "         [0.15641394, 0.34750327],\n",
              "         [0.17327309, 0.97087474],\n",
              "         [0.1738387 , 0.05622837],\n",
              "         [0.17626354, 0.35866611],\n",
              "         [0.19126347, 0.3157767 ]],\n",
              " \n",
              "        [[0.15129962, 0.38523399],\n",
              "         [0.166787  , 0.42585659],\n",
              "         [0.14311071, 0.45024785],\n",
              "         [0.15858599, 0.28919378],\n",
              "         [0.15641394, 0.34750327],\n",
              "         [0.17327309, 0.97087474],\n",
              "         [0.1738387 , 0.05622837],\n",
              "         [0.17626354, 0.35866611],\n",
              "         [0.19126347, 0.3157767 ],\n",
              "         [0.20296024, 0.64993994]],\n",
              " \n",
              "        [[0.166787  , 0.42585659],\n",
              "         [0.14311071, 0.45024785],\n",
              "         [0.15858599, 0.28919378],\n",
              "         [0.15641394, 0.34750327],\n",
              "         [0.17327309, 0.97087474],\n",
              "         [0.1738387 , 0.05622837],\n",
              "         [0.17626354, 0.35866611],\n",
              "         [0.19126347, 0.3157767 ],\n",
              "         [0.20296024, 0.64993994],\n",
              "         [0.2074368 , 0.71078174]],\n",
              " \n",
              "        [[0.14311071, 0.45024785],\n",
              "         [0.15858599, 0.28919378],\n",
              "         [0.15641394, 0.34750327],\n",
              "         [0.17327309, 0.97087474],\n",
              "         [0.1738387 , 0.05622837],\n",
              "         [0.17626354, 0.35866611],\n",
              "         [0.19126347, 0.3157767 ],\n",
              "         [0.20296024, 0.64993994],\n",
              "         [0.2074368 , 0.71078174],\n",
              "         [0.2238206 , 0.76972158]],\n",
              " \n",
              "        [[0.15858599, 0.28919378],\n",
              "         [0.15641394, 0.34750327],\n",
              "         [0.17327309, 0.97087474],\n",
              "         [0.1738387 , 0.05622837],\n",
              "         [0.17626354, 0.35866611],\n",
              "         [0.19126347, 0.3157767 ],\n",
              "         [0.20296024, 0.64993994],\n",
              "         [0.2074368 , 0.71078174],\n",
              "         [0.2238206 , 0.76972158],\n",
              "         [0.21770751, 0.02460544]],\n",
              " \n",
              "        [[0.15641394, 0.34750327],\n",
              "         [0.17327309, 0.97087474],\n",
              "         [0.1738387 , 0.05622837],\n",
              "         [0.17626354, 0.35866611],\n",
              "         [0.19126347, 0.3157767 ],\n",
              "         [0.20296024, 0.64993994],\n",
              "         [0.2074368 , 0.71078174],\n",
              "         [0.2238206 , 0.76972158],\n",
              "         [0.21770751, 0.02460544],\n",
              "         [0.22198547, 0.18983128]],\n",
              " \n",
              "        [[0.17327309, 0.97087474],\n",
              "         [0.1738387 , 0.05622837],\n",
              "         [0.17626354, 0.35866611],\n",
              "         [0.19126347, 0.3157767 ],\n",
              "         [0.20296024, 0.64993994],\n",
              "         [0.2074368 , 0.71078174],\n",
              "         [0.2238206 , 0.76972158],\n",
              "         [0.21770751, 0.02460544],\n",
              "         [0.22198547, 0.18983128],\n",
              "         [0.22731649, 0.8284355 ]],\n",
              " \n",
              "        [[0.1738387 , 0.05622837],\n",
              "         [0.17626354, 0.35866611],\n",
              "         [0.19126347, 0.3157767 ],\n",
              "         [0.20296024, 0.64993994],\n",
              "         [0.2074368 , 0.71078174],\n",
              "         [0.2238206 , 0.76972158],\n",
              "         [0.21770751, 0.02460544],\n",
              "         [0.22198547, 0.18983128],\n",
              "         [0.22731649, 0.8284355 ],\n",
              "         [0.22848366, 0.07714774]],\n",
              " \n",
              "        [[0.17626354, 0.35866611],\n",
              "         [0.19126347, 0.3157767 ],\n",
              "         [0.20296024, 0.64993994],\n",
              "         [0.2074368 , 0.71078174],\n",
              "         [0.2238206 , 0.76972158],\n",
              "         [0.21770751, 0.02460544],\n",
              "         [0.22198547, 0.18983128],\n",
              "         [0.22731649, 0.8284355 ],\n",
              "         [0.22848366, 0.07714774],\n",
              "         [0.24230443, 0.00948492]],\n",
              " \n",
              "        [[0.19126347, 0.3157767 ],\n",
              "         [0.20296024, 0.64993994],\n",
              "         [0.2074368 , 0.71078174],\n",
              "         [0.2238206 , 0.76972158],\n",
              "         [0.21770751, 0.02460544],\n",
              "         [0.22198547, 0.18983128],\n",
              "         [0.22731649, 0.8284355 ],\n",
              "         [0.22848366, 0.07714774],\n",
              "         [0.24230443, 0.00948492],\n",
              "         [0.24928397, 0.05912049]],\n",
              " \n",
              "        [[0.20296024, 0.64993994],\n",
              "         [0.2074368 , 0.71078174],\n",
              "         [0.2238206 , 0.76972158],\n",
              "         [0.21770751, 0.02460544],\n",
              "         [0.22198547, 0.18983128],\n",
              "         [0.22731649, 0.8284355 ],\n",
              "         [0.22848366, 0.07714774],\n",
              "         [0.24230443, 0.00948492],\n",
              "         [0.24928397, 0.05912049],\n",
              "         [0.25167261, 0.96213832]],\n",
              " \n",
              "        [[0.2074368 , 0.71078174],\n",
              "         [0.2238206 , 0.76972158],\n",
              "         [0.21770751, 0.02460544],\n",
              "         [0.22198547, 0.18983128],\n",
              "         [0.22731649, 0.8284355 ],\n",
              "         [0.22848366, 0.07714774],\n",
              "         [0.24230443, 0.00948492],\n",
              "         [0.24928397, 0.05912049],\n",
              "         [0.25167261, 0.96213832],\n",
              "         [0.19966907, 0.40935033]],\n",
              " \n",
              "        [[0.2238206 , 0.76972158],\n",
              "         [0.21770751, 0.02460544],\n",
              "         [0.22198547, 0.18983128],\n",
              "         [0.22731649, 0.8284355 ],\n",
              "         [0.22848366, 0.07714774],\n",
              "         [0.24230443, 0.00948492],\n",
              "         [0.24928397, 0.05912049],\n",
              "         [0.25167261, 0.96213832],\n",
              "         [0.19966907, 0.40935033],\n",
              "         [0.21626347, 0.6153985 ]],\n",
              " \n",
              "        [[0.21770751, 0.02460544],\n",
              "         [0.22198547, 0.18983128],\n",
              "         [0.22731649, 0.8284355 ],\n",
              "         [0.22848366, 0.07714774],\n",
              "         [0.24230443, 0.00948492],\n",
              "         [0.24928397, 0.05912049],\n",
              "         [0.25167261, 0.96213832],\n",
              "         [0.19966907, 0.40935033],\n",
              "         [0.21626347, 0.6153985 ],\n",
              "         [0.23248486, 0.81602445]],\n",
              " \n",
              "        [[0.22198547, 0.18983128],\n",
              "         [0.22731649, 0.8284355 ],\n",
              "         [0.22848366, 0.07714774],\n",
              "         [0.24230443, 0.00948492],\n",
              "         [0.24928397, 0.05912049],\n",
              "         [0.25167261, 0.96213832],\n",
              "         [0.19966907, 0.40935033],\n",
              "         [0.21626347, 0.6153985 ],\n",
              "         [0.23248486, 0.81602445],\n",
              "         [0.25031283, 0.57974449]],\n",
              " \n",
              "        [[0.22731649, 0.8284355 ],\n",
              "         [0.22848366, 0.07714774],\n",
              "         [0.24230443, 0.00948492],\n",
              "         [0.24928397, 0.05912049],\n",
              "         [0.25167261, 0.96213832],\n",
              "         [0.19966907, 0.40935033],\n",
              "         [0.21626347, 0.6153985 ],\n",
              "         [0.23248486, 0.81602445],\n",
              "         [0.25031283, 0.57974449],\n",
              "         [0.26522862, 0.62918884]],\n",
              " \n",
              "        [[0.22848366, 0.07714774],\n",
              "         [0.24230443, 0.00948492],\n",
              "         [0.24928397, 0.05912049],\n",
              "         [0.25167261, 0.96213832],\n",
              "         [0.19966907, 0.40935033],\n",
              "         [0.21626347, 0.6153985 ],\n",
              "         [0.23248486, 0.81602445],\n",
              "         [0.25031283, 0.57974449],\n",
              "         [0.26522862, 0.62918884],\n",
              "         [0.27237656, 0.71103125]],\n",
              " \n",
              "        [[0.24230443, 0.00948492],\n",
              "         [0.24928397, 0.05912049],\n",
              "         [0.25167261, 0.96213832],\n",
              "         [0.19966907, 0.40935033],\n",
              "         [0.21626347, 0.6153985 ],\n",
              "         [0.23248486, 0.81602445],\n",
              "         [0.25031283, 0.57974449],\n",
              "         [0.26522862, 0.62918884],\n",
              "         [0.27237656, 0.71103125],\n",
              "         [0.27831526, 0.22210933]],\n",
              " \n",
              "        [[0.24928397, 0.05912049],\n",
              "         [0.25167261, 0.96213832],\n",
              "         [0.19966907, 0.40935033],\n",
              "         [0.21626347, 0.6153985 ],\n",
              "         [0.23248486, 0.81602445],\n",
              "         [0.25031283, 0.57974449],\n",
              "         [0.26522862, 0.62918884],\n",
              "         [0.27237656, 0.71103125],\n",
              "         [0.27831526, 0.22210933],\n",
              "         [0.27829117, 0.98906807]]]),\n",
              " array([0.14501201, 0.15271957, 0.13267747, 0.14318886, 0.15129962,\n",
              "        0.166787  , 0.14311071, 0.15858599, 0.15641394, 0.17327309,\n",
              "        0.1738387 , 0.17626354, 0.19126347, 0.20296024, 0.2074368 ,\n",
              "        0.2238206 , 0.21770751, 0.22198547, 0.22731649, 0.22848366,\n",
              "        0.24230443, 0.24928397, 0.25167261, 0.19966907, 0.21626347,\n",
              "        0.23248486, 0.25031283, 0.26522862, 0.27237656, 0.27831526,\n",
              "        0.27829117, 0.28271355]))"
            ]
          },
          "metadata": {},
          "execution_count": 14
        }
      ]
    },
    {
      "cell_type": "markdown",
      "source": [
        "<div id=\"chap3\"><h1 style=\"color:white;background:#5963ab;border-radius:5px;padding:30px;font-family:'Arial', cursive;font-size:50px;text-align:center\">LSTM Model</h1></div>"
      ],
      "metadata": {
        "id": "-1Mr6kew9xxU"
      }
    },
    {
      "cell_type": "markdown",
      "source": [
        "**<font color=\"#5963ab\" size=\"4\">What is a LSTM ?</font>**\n",
        "\n",
        "> Long Short Term Memory networks – usually just called “LSTMs” – are a special kind of RNN, capable of learning long-term dependencies. Introduced by Hochreiter & Schmidhuber (1997), and were refined and popularized by many people in following work. They work tremendously well on a large variety of problems, and are now widely used.\n",
        ">\n",
        "> LSTMs are explicitly designed to avoid the long-term dependency problem. Remembering information for long periods of time is practically their default behavior, not something they struggle to learn!\n",
        ">\n",
        "> All recurrent neural networks have the form of a chain of repeating modules of neural network."
      ],
      "metadata": {
        "id": "1YdhlsYW9xxU"
      }
    },
    {
      "cell_type": "markdown",
      "source": [
        "You can find more details here: http://colah.github.io/posts/2015-08-Understanding-LSTMs/"
      ],
      "metadata": {
        "id": "LCGoOiUR9xxU"
      }
    },
    {
      "cell_type": "code",
      "source": [
        "import tensorflow as tf"
      ],
      "metadata": {
        "id": "4UHm4AuID9hA"
      },
      "execution_count": 9,
      "outputs": []
    },
    {
      "cell_type": "code",
      "source": [
        "def LSTM_model():\n",
        "    \"\"\"\n",
        "    Create and configure an LSTM model for stock price prediction.\n",
        "\n",
        "    :return: The configured LSTM model (keras.Sequential)\n",
        "    \"\"\"\n",
        "\n",
        "    # Initialize a sequential model\n",
        "    model = Sequential()\n",
        "\n",
        "    # Add the first LSTM layer with 50 units, input shape, and return sequences\n",
        "    model.add(LSTM(units=50, return_sequences=True, input_shape=(win_l, num_f)))\n",
        "    # Add dropout to prevent overfitting\n",
        "    model.add(Dropout(0.2))\n",
        "\n",
        "    # Add a second LSTM layer with 50 units and return sequences\n",
        "    model.add(LSTM(units=50, return_sequences=True))\n",
        "    # Add dropout to prevent overfitting\n",
        "    model.add(Dropout(0.2))\n",
        "\n",
        "    # Add a third LSTM layer with 50 units\n",
        "    model.add(LSTM(units=50, return_sequences=False))\n",
        "    # Add dropout to prevent overfitting\n",
        "    model.add(Dropout(0.2))\n",
        "\n",
        "    # Add a dense output layer with one unit\n",
        "    model.add(Dense(units=1))\n",
        "\n",
        "    return model"
      ],
      "metadata": {
        "execution": {
          "iopub.status.busy": "2023-04-06T08:20:54.499062Z",
          "iopub.execute_input": "2023-04-06T08:20:54.499341Z",
          "iopub.status.idle": "2023-04-06T08:20:54.514805Z",
          "shell.execute_reply.started": "2023-04-06T08:20:54.499314Z",
          "shell.execute_reply": "2023-04-06T08:20:54.513443Z"
        },
        "trusted": true,
        "id": "xhJKsQg89xxU"
      },
      "execution_count": 24,
      "outputs": []
    },
    {
      "cell_type": "code",
      "source": [
        "def build_LSTM_model():\n",
        "    input = tf.keras.layers.Input(\n",
        "        shape=(win_l, num_f), name =\"input\"\n",
        "    )\n",
        "    x = tf.keras.layers.Bidirectional(LSTM(50, return_sequences=True))(input)\n",
        "    x = tf.keras.layers.Dropout(0.3)(x)\n",
        "\n",
        "    x = tf.keras.layers.Bidirectional(LSTM(50, return_sequences=True))(x)\n",
        "    x = tf.keras.layers.Dropout(0.3)(x)\n",
        "\n",
        "    x = tf.keras.layers.Bidirectional(LSTM(50, return_sequences=False))(x)\n",
        "    x = tf.keras.layers.Dropout(0.3)(x)\n",
        "\n",
        "    output = tf.keras.layers.Dense(1, name=\"last_dense\")(x)\n",
        "\n",
        "    model = tf.keras.Model(inputs=input, outputs=output)\n",
        "\n",
        "    return model"
      ],
      "metadata": {
        "id": "jA2530ZUTbNn"
      },
      "execution_count": 39,
      "outputs": []
    },
    {
      "cell_type": "markdown",
      "source": [
        "**<font size=\"2\"><a href=\"#summary\">Back to summary</a></font>**\n",
        "\n",
        "----"
      ],
      "metadata": {
        "id": "MouykJCz9xxV"
      }
    },
    {
      "cell_type": "markdown",
      "source": [
        "<div id=\"chap4\"><h1 style=\"color:white;background:#5963ab;border-radius:5px;padding:30px;font-family:'Arial', cursive;font-size:50px;text-align:center\">Training</h1></div>"
      ],
      "metadata": {
        "id": "Xy_IOBMV9xxV"
      }
    },
    {
      "cell_type": "code",
      "source": [
        "# model = build_LSTM_model()\n"
      ],
      "metadata": {
        "execution": {
          "iopub.status.busy": "2023-04-06T08:20:54.516349Z",
          "iopub.execute_input": "2023-04-06T08:20:54.516679Z",
          "iopub.status.idle": "2023-04-06T08:20:55.395558Z",
          "shell.execute_reply.started": "2023-04-06T08:20:54.516627Z",
          "shell.execute_reply": "2023-04-06T08:20:55.393322Z"
        },
        "trusted": true,
        "id": "5UJg80AP9xxV"
      },
      "execution_count": null,
      "outputs": []
    },
    {
      "cell_type": "code",
      "source": [
        "model = LSTM_model()"
      ],
      "metadata": {
        "id": "I2OxvxPfUG5-"
      },
      "execution_count": 40,
      "outputs": []
    },
    {
      "cell_type": "code",
      "source": [
        "model.summary()"
      ],
      "metadata": {
        "id": "oMTZ8WBNEOp6",
        "colab": {
          "base_uri": "https://localhost:8080/"
        },
        "outputId": "f1fb8115-de3f-4f8e-bd5b-3bb5cf0c9914"
      },
      "execution_count": 38,
      "outputs": [
        {
          "output_type": "stream",
          "name": "stdout",
          "text": [
            "Model: \"sequential_1\"\n",
            "_________________________________________________________________\n",
            " Layer (type)                Output Shape              Param #   \n",
            "=================================================================\n",
            " lstm_3 (LSTM)               (None, 10, 50)            10400     \n",
            "                                                                 \n",
            " dropout_3 (Dropout)         (None, 10, 50)            0         \n",
            "                                                                 \n",
            " lstm_4 (LSTM)               (None, 10, 50)            20200     \n",
            "                                                                 \n",
            " dropout_4 (Dropout)         (None, 10, 50)            0         \n",
            "                                                                 \n",
            " lstm_5 (LSTM)               (None, 50)                20200     \n",
            "                                                                 \n",
            " dropout_5 (Dropout)         (None, 50)                0         \n",
            "                                                                 \n",
            " dense_1 (Dense)             (None, 1)                 51        \n",
            "                                                                 \n",
            "=================================================================\n",
            "Total params: 50851 (198.64 KB)\n",
            "Trainable params: 50851 (198.64 KB)\n",
            "Non-trainable params: 0 (0.00 Byte)\n",
            "_________________________________________________________________\n"
          ]
        }
      ]
    },
    {
      "cell_type": "code",
      "source": [
        "import tensorflow as tf"
      ],
      "metadata": {
        "id": "dybtS4xWEOzL"
      },
      "execution_count": null,
      "outputs": []
    },
    {
      "cell_type": "code",
      "source": [
        "early_stop = tf.keras.callbacks.EarlyStopping(\n",
        "    monitor=\"val_loss\",\n",
        "    patience=2,\n",
        "    mode=\"min\"\n",
        ")\n"
      ],
      "metadata": {
        "id": "kRNzpS3OENKd"
      },
      "execution_count": 41,
      "outputs": []
    },
    {
      "cell_type": "code",
      "source": [
        "model.compile(\n",
        "    optimizer='adam',\n",
        "    loss='mean_squared_error'\n",
        ")"
      ],
      "metadata": {
        "id": "CtXzltfYEPre"
      },
      "execution_count": 42,
      "outputs": []
    },
    {
      "cell_type": "code",
      "source": [
        "\n",
        "model.fit_generator(\n",
        "    train_gen,\n",
        "    validation_data = test_gen,\n",
        "    shuffle = False,\n",
        "    epochs=15,\n",
        "    callbacks = []\n",
        ")"
      ],
      "metadata": {
        "execution": {
          "iopub.status.busy": "2023-04-06T08:20:55.3969Z",
          "iopub.execute_input": "2023-04-06T08:20:55.397291Z",
          "iopub.status.idle": "2023-04-06T08:22:19.391766Z",
          "shell.execute_reply.started": "2023-04-06T08:20:55.397258Z",
          "shell.execute_reply": "2023-04-06T08:22:19.390736Z"
        },
        "trusted": true,
        "colab": {
          "base_uri": "https://localhost:8080/"
        },
        "id": "syTK0zFA9xxV",
        "outputId": "45ddf2bf-a653-4aad-c65c-bee431660290"
      },
      "execution_count": 43,
      "outputs": [
        {
          "output_type": "stream",
          "name": "stdout",
          "text": [
            "Epoch 1/15\n"
          ]
        },
        {
          "output_type": "stream",
          "name": "stderr",
          "text": [
            "<ipython-input-43-af1eba901ed2>:1: UserWarning: `Model.fit_generator` is deprecated and will be removed in a future version. Please use `Model.fit`, which supports generators.\n",
            "  model.fit_generator(\n"
          ]
        },
        {
          "output_type": "stream",
          "name": "stdout",
          "text": [
            "18/18 [==============================] - 6s 94ms/step - loss: 0.0603 - val_loss: 0.0186\n",
            "Epoch 2/15\n",
            "18/18 [==============================] - 0s 16ms/step - loss: 0.0202 - val_loss: 0.0046\n",
            "Epoch 3/15\n",
            "18/18 [==============================] - 0s 11ms/step - loss: 0.0194 - val_loss: 0.0023\n",
            "Epoch 4/15\n",
            "18/18 [==============================] - 0s 10ms/step - loss: 0.0133 - val_loss: 0.0021\n",
            "Epoch 5/15\n",
            "18/18 [==============================] - 0s 10ms/step - loss: 0.0087 - val_loss: 0.0013\n",
            "Epoch 6/15\n",
            "18/18 [==============================] - 0s 10ms/step - loss: 0.0073 - val_loss: 0.0012\n",
            "Epoch 7/15\n",
            "18/18 [==============================] - 0s 12ms/step - loss: 0.0059 - val_loss: 0.0016\n",
            "Epoch 8/15\n",
            "18/18 [==============================] - 0s 10ms/step - loss: 0.0055 - val_loss: 0.0022\n",
            "Epoch 9/15\n",
            "18/18 [==============================] - 0s 11ms/step - loss: 0.0065 - val_loss: 0.0012\n",
            "Epoch 10/15\n",
            "18/18 [==============================] - 0s 10ms/step - loss: 0.0051 - val_loss: 0.0011\n",
            "Epoch 11/15\n",
            "18/18 [==============================] - 0s 10ms/step - loss: 0.0056 - val_loss: 0.0011\n",
            "Epoch 12/15\n",
            "18/18 [==============================] - 0s 10ms/step - loss: 0.0062 - val_loss: 0.0015\n",
            "Epoch 13/15\n",
            "18/18 [==============================] - 0s 10ms/step - loss: 0.0049 - val_loss: 0.0023\n",
            "Epoch 14/15\n",
            "18/18 [==============================] - 0s 11ms/step - loss: 0.0051 - val_loss: 0.0013\n",
            "Epoch 15/15\n",
            "18/18 [==============================] - 0s 11ms/step - loss: 0.0052 - val_loss: 0.0012\n"
          ]
        },
        {
          "output_type": "execute_result",
          "data": {
            "text/plain": [
              "<keras.src.callbacks.History at 0x7c6f6f886f20>"
            ]
          },
          "metadata": {},
          "execution_count": 43
        }
      ]
    },
    {
      "cell_type": "markdown",
      "source": [
        "**<font size=\"2\"><a href=\"#summary\">Back to summary</a></font>**\n",
        "\n",
        "----"
      ],
      "metadata": {
        "id": "SF6SJ-uj9xxV"
      }
    },
    {
      "cell_type": "code",
      "source": [
        "model.evaluate_generator(test_gen, verbose=\"0\")"
      ],
      "metadata": {
        "colab": {
          "base_uri": "https://localhost:8080/"
        },
        "id": "f9WU8qKTB7fh",
        "outputId": "fc5bc10f-5aab-41e9-ad58-c1897feec3a8"
      },
      "execution_count": 15,
      "outputs": [
        {
          "output_type": "stream",
          "name": "stderr",
          "text": [
            "<ipython-input-15-01b4199dd4d3>:1: UserWarning: `Model.evaluate_generator` is deprecated and will be removed in a future version. Please use `Model.evaluate`, which supports generators.\n",
            "  model.evaluate_generator(test_gen, verbose=\"0\")\n"
          ]
        },
        {
          "output_type": "execute_result",
          "data": {
            "text/plain": [
              "0.004147528205066919"
            ]
          },
          "metadata": {},
          "execution_count": 15
        }
      ]
    },
    {
      "cell_type": "code",
      "source": [
        "pred = model.predict_generator(test_gen)"
      ],
      "metadata": {
        "colab": {
          "base_uri": "https://localhost:8080/"
        },
        "id": "x-IUW69nnI7r",
        "outputId": "f05da0c1-3c0d-4471-b58b-7526942e6d94"
      },
      "execution_count": 44,
      "outputs": [
        {
          "output_type": "stream",
          "name": "stderr",
          "text": [
            "<ipython-input-44-ee7734aca27d>:1: UserWarning: `Model.predict_generator` is deprecated and will be removed in a future version. Please use `Model.predict`, which supports generators.\n",
            "  pred = model.predict_generator(test_gen)\n"
          ]
        }
      ]
    },
    {
      "cell_type": "code",
      "source": [
        "df_pred = pd.concat([pd.DataFrame(pred), pd.DataFrame(x_test[:,1:][win_l:])], axis=1)"
      ],
      "metadata": {
        "id": "RsJa8t70nXwU"
      },
      "execution_count": 45,
      "outputs": []
    },
    {
      "cell_type": "code",
      "source": [
        "rev_trans = scaler.inverse_transform(df_pred)"
      ],
      "metadata": {
        "id": "Sb4NXwyNnuFz"
      },
      "execution_count": 46,
      "outputs": []
    },
    {
      "cell_type": "code",
      "source": [
        "df_act = df[-1 * len(pred): ]"
      ],
      "metadata": {
        "id": "760rIawPo78A"
      },
      "execution_count": 47,
      "outputs": []
    },
    {
      "cell_type": "code",
      "source": [
        "df_act['pred'] = rev_trans[:,0]"
      ],
      "metadata": {
        "colab": {
          "base_uri": "https://localhost:8080/"
        },
        "id": "XRMrJxdopGGQ",
        "outputId": "2c39be19-e3fc-4d1d-f277-280bfda63893"
      },
      "execution_count": 48,
      "outputs": [
        {
          "output_type": "stream",
          "name": "stderr",
          "text": [
            "<ipython-input-48-411f530d68cc>:1: SettingWithCopyWarning: \n",
            "A value is trying to be set on a copy of a slice from a DataFrame.\n",
            "Try using .loc[row_indexer,col_indexer] = value instead\n",
            "\n",
            "See the caveats in the documentation: https://pandas.pydata.org/pandas-docs/stable/user_guide/indexing.html#returning-a-view-versus-a-copy\n",
            "  df_act['pred'] = rev_trans[:,0]\n"
          ]
        }
      ]
    },
    {
      "cell_type": "code",
      "source": [
        "from sklearn.metrics import mean_squared_error, mean_absolute_error\n",
        "import math"
      ],
      "metadata": {
        "id": "zFspXXRSCyD9"
      },
      "execution_count": 36,
      "outputs": []
    },
    {
      "cell_type": "code",
      "source": [
        "print('MSE: '+str(mean_squared_error(df_act['price'], df_act['pred'])))\n",
        "print('MAE: '+str(mean_absolute_error(df_act['price'], df_act['pred'])))\n",
        "print('RMSE: '+str(math.sqrt(mean_squared_error(df_act['price'], df_act['pred']))))"
      ],
      "metadata": {
        "colab": {
          "base_uri": "https://localhost:8080/"
        },
        "id": "I6wXeFxtCl-t",
        "outputId": "a7c49c5b-bae4-41bd-9fee-f84ac4cbb8b3"
      },
      "execution_count": 49,
      "outputs": [
        {
          "output_type": "stream",
          "name": "stdout",
          "text": [
            "MSE: 81273.53217504952\n",
            "MAE: 222.60452946087787\n",
            "RMSE: 285.0851314520796\n"
          ]
        }
      ]
    },
    {
      "cell_type": "code",
      "source": [
        "# Plot the actual prices using a black line\n",
        "plt.plot(df_act['price'][40:], color='black', label=f\"Actual price\")\n",
        "\n",
        "# Plot the predicted prices using a green line\n",
        "plt.plot(df_act['pred'][40:], color='green', label=f\"Predicted price\")\n",
        "\n",
        "# Set the title of the plot using the company name\n",
        "plt.title(f\" share price\")\n",
        "\n",
        "# Set the x-axis label as 'time'\n",
        "plt.xlabel(\"time\")\n",
        "\n",
        "# Set the y-axis label using the company name\n",
        "plt.ylabel(f\" share price\")\n",
        "\n",
        "# Display a legend to differentiate the actual and predicted prices\n",
        "plt.legend()\n",
        "\n",
        "# Show the plot on the screen\n",
        "plt.show()"
      ],
      "metadata": {
        "execution": {
          "iopub.status.busy": "2023-04-06T08:22:20.514396Z",
          "iopub.execute_input": "2023-04-06T08:22:20.514923Z",
          "iopub.status.idle": "2023-04-06T08:22:20.753429Z",
          "shell.execute_reply.started": "2023-04-06T08:22:20.514887Z",
          "shell.execute_reply": "2023-04-06T08:22:20.752181Z"
        },
        "trusted": true,
        "colab": {
          "base_uri": "https://localhost:8080/",
          "height": 472
        },
        "id": "IBLi09rz9xxW",
        "outputId": "207833bc-db54-40e8-fcfc-f65395614197"
      },
      "execution_count": 21,
      "outputs": [
        {
          "output_type": "display_data",
          "data": {
            "text/plain": [
              "<Figure size 640x480 with 1 Axes>"
            ],
            "image/png": "[encoded data removed]"
          },
          "metadata": {}
        }
      ]
    },
    {
      "cell_type": "code",
      "source": [
        "plt.figure(figsize=(14,8))\n",
        "plt.plot(df.index[-100:], df['price'].tail(100), color='green', label = 'Train Stock Price')\n",
        "plt.plot(df_act.index[-73:], df_act['price'].tail(73), color = 'red', label = 'Real Stock Price')\n",
        "plt.plot(df_act.index[-73:], df_act['pred'].tail(73), color = 'blue', label = 'Predicted Stock Price')\n",
        "plt.legend()\n",
        "plt.grid(True)\n",
        "plt.show()\n"
      ],
      "metadata": {
        "colab": {
          "base_uri": "https://localhost:8080/",
          "height": 676
        },
        "id": "rBPjcV3lNrwN",
        "outputId": "17dbffa2-cc68-4d7a-c654-b13d58336dd7"
      },
      "execution_count": 50,
      "outputs": [
        {
          "output_type": "display_data",
          "data": {
            "text/plain": [
              "<Figure size 1400x800 with 1 Axes>"
            ],
            "image/png": "[encoded data removed]"
          },
          "metadata": {}
        }
      ]
    },
    {
      "cell_type": "code",
      "source": [],
      "metadata": {
        "id": "DgY0iokZOUOZ"
      },
      "execution_count": null,
      "outputs": []
    },
    {
      "cell_type": "code",
      "source": [
        "plt.figure(figsize=(14,8))\n",
        "plt.plot(data.index[-100:], data['stock-price'].tail(100), color='green', label = 'Train Stock Price')\n",
        "plt.plot(data.index[-73:], data['stock-price'].tail(73), color = 'red', label = 'Real Stock Price')\n",
        "plt.plot(y_stock.index, predictions[:-1], color = 'blue', label = 'Predicted Stock Price')\n",
        "plt.legend()\n",
        "plt.grid(True)\n"
      ],
      "metadata": {
        "id": "pVXDCJVOOUTP"
      },
      "execution_count": null,
      "outputs": []
    },
    {
      "cell_type": "code",
      "source": [
        "df_act.shape"
      ],
      "metadata": {
        "colab": {
          "base_uri": "https://localhost:8080/"
        },
        "id": "RmQcIhS4N-7l",
        "outputId": "7a36fdd8-ba53-4222-b1c4-05e4e345fa7e"
      },
      "execution_count": null,
      "outputs": [
        {
          "output_type": "execute_result",
          "data": {
            "text/plain": [
              "(131, 3)"
            ]
          },
          "metadata": {},
          "execution_count": 40
        }
      ]
    },
    {
      "cell_type": "code",
      "source": [],
      "metadata": {
        "id": "w1o7_93rVhNN"
      },
      "execution_count": null,
      "outputs": []
    },
    {
      "cell_type": "code",
      "source": [],
      "metadata": {
        "id": "UVmUwgqZVhO8"
      },
      "execution_count": null,
      "outputs": []
    },
    {
      "cell_type": "code",
      "source": [],
      "metadata": {
        "id": "v2AOPYTLVhRz"
      },
      "execution_count": null,
      "outputs": []
    },
    {
      "cell_type": "markdown",
      "source": [
        "<h1 style=\"color:white;background:#5963ab;border-radius:5px;padding:30px;font-family:'Arial', cursive;font-size:50px;text-align:center\">References</h1>\n",
        "\n",
        "* <a href = 'https://www.kaggle.com/bryanb/introduction-to-time-series-analysis/edit/run/53321733'>My notebook on Time series analysis</a>\n",
        "* <a href = 'http://colah.github.io/posts/2015-08-Understanding-LSTMs/'>LSTM Explanations</a>\n",
        "* <a href = 'https://www.kaggle.com/datasets/bryanb/cac40-stocks-dataset'>CAC 40 dataset</a>"
      ],
      "metadata": {
        "id": "7y_3jQng9xxX"
      }
    }
  ]
}