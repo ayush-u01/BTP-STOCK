{
  "nbformat": 4,
  "nbformat_minor": 0,
  "metadata": {
    "colab": {
      "provenance": []
    },
    "kernelspec": {
      "name": "python3",
      "display_name": "Python 3"
    },
    "language_info": {
      "name": "python"
    }
  },
  "cells": [
    {
      "cell_type": "code",
      "source": [
        "!pip install matplotlib"
      ],
      "metadata": {
        "colab": {
          "base_uri": "https://localhost:8080/"
        },
        "id": "i6INOzjRsmmN",
        "outputId": "64218b97-8693-47d8-ac3f-e3c811351ca4"
      },
      "execution_count": 11,
      "outputs": [
        {
          "output_type": "stream",
          "name": "stdout",
          "text": [
            "Requirement already satisfied: matplotlib in /usr/local/lib/python3.10/dist-packages (3.7.1)\n",
            "Requirement already satisfied: contourpy>=1.0.1 in /usr/local/lib/python3.10/dist-packages (from matplotlib) (1.1.1)\n",
            "Requirement already satisfied: cycler>=0.10 in /usr/local/lib/python3.10/dist-packages (from matplotlib) (0.12.1)\n",
            "Requirement already satisfied: fonttools>=4.22.0 in /usr/local/lib/python3.10/dist-packages (from matplotlib) (4.43.1)\n",
            "Requirement already satisfied: kiwisolver>=1.0.1 in /usr/local/lib/python3.10/dist-packages (from matplotlib) (1.4.5)\n",
            "Requirement already satisfied: numpy>=1.20 in /usr/local/lib/python3.10/dist-packages (from matplotlib) (1.23.5)\n",
            "Requirement already satisfied: packaging>=20.0 in /usr/local/lib/python3.10/dist-packages (from matplotlib) (23.2)\n",
            "Requirement already satisfied: pillow>=6.2.0 in /usr/local/lib/python3.10/dist-packages (from matplotlib) (9.4.0)\n",
            "Requirement already satisfied: pyparsing>=2.3.1 in /usr/local/lib/python3.10/dist-packages (from matplotlib) (3.1.1)\n",
            "Requirement already satisfied: python-dateutil>=2.7 in /usr/local/lib/python3.10/dist-packages (from matplotlib) (2.8.2)\n",
            "Requirement already satisfied: six>=1.5 in /usr/local/lib/python3.10/dist-packages (from python-dateutil>=2.7->matplotlib) (1.16.0)\n"
          ]
        }
      ]
    },
    {
      "cell_type": "code",
      "execution_count": 1,
      "metadata": {
        "colab": {
          "base_uri": "https://localhost:8080/"
        },
        "id": "dTHbWsfZqppy",
        "outputId": "969c1e99-48a2-429f-b8a4-938248a3d90e"
      },
      "outputs": [
        {
          "output_type": "stream",
          "name": "stdout",
          "text": [
            "Requirement already satisfied: textblob in /usr/local/lib/python3.10/dist-packages (0.17.1)\n",
            "Requirement already satisfied: nltk>=3.1 in /usr/local/lib/python3.10/dist-packages (from textblob) (3.8.1)\n",
            "Requirement already satisfied: click in /usr/local/lib/python3.10/dist-packages (from nltk>=3.1->textblob) (8.1.7)\n",
            "Requirement already satisfied: joblib in /usr/local/lib/python3.10/dist-packages (from nltk>=3.1->textblob) (1.3.2)\n",
            "Requirement already satisfied: regex>=2021.8.3 in /usr/local/lib/python3.10/dist-packages (from nltk>=3.1->textblob) (2023.6.3)\n",
            "Requirement already satisfied: tqdm in /usr/local/lib/python3.10/dist-packages (from nltk>=3.1->textblob) (4.66.1)\n"
          ]
        }
      ],
      "source": [
        "!pip install textblob\n",
        "from textblob import TextBlob"
      ]
    },
    {
      "cell_type": "code",
      "source": [
        "import pandas\n",
        "import glob"
      ],
      "metadata": {
        "id": "rImXkgFXq2LM"
      },
      "execution_count": 2,
      "outputs": []
    },
    {
      "cell_type": "code",
      "source": [
        "file_pattern = \"*.csv\"\n",
        "file_list = glob.glob(file_pattern)\n",
        "dataframes = []\n",
        "file_list.sort()\n",
        "for file_name in file_list:\n",
        "  df = pandas.read_csv(file_name)\n",
        "  dataframes.append(df)"
      ],
      "metadata": {
        "id": "uBEQgLpOq-jJ"
      },
      "execution_count": 3,
      "outputs": []
    },
    {
      "cell_type": "code",
      "source": [
        "def polarity_only(review):\n",
        "  analysis = TextBlob(review)\n",
        "  score = analysis.sentiment.polarity\n",
        "  return score"
      ],
      "metadata": {
        "id": "mAZCw0eXrBTM"
      },
      "execution_count": 4,
      "outputs": []
    },
    {
      "cell_type": "code",
      "source": [
        "for i in range(len(dataframes)):\n",
        "  print(dataframes[i].shape)"
      ],
      "metadata": {
        "colab": {
          "base_uri": "https://localhost:8080/"
        },
        "id": "B8Tf_CoYrG_M",
        "outputId": "b6e2d502-64bd-4e41-d0db-9bf3c3bdee51"
      },
      "execution_count": 5,
      "outputs": [
        {
          "output_type": "stream",
          "name": "stdout",
          "text": [
            "(222, 13)\n",
            "(204, 13)\n",
            "(219, 13)\n",
            "(200, 13)\n",
            "(495, 13)\n",
            "(1152, 13)\n",
            "(705, 13)\n",
            "(1000, 13)\n",
            "(1221, 13)\n",
            "(247, 13)\n",
            "(246, 13)\n"
          ]
        }
      ]
    },
    {
      "cell_type": "code",
      "source": [
        "for i in range(len(dataframes)):\n",
        "  dataframes[i] = dataframes[i].dropna(subset=['Content'])\n",
        "  dataframes[i].drop(dataframes[i][dataframes[i]['Likes'] > 0].index, inplace=True)\n",
        "  print(dataframes[i].shape)"
      ],
      "metadata": {
        "colab": {
          "base_uri": "https://localhost:8080/"
        },
        "id": "QxJatIqWrLMi",
        "outputId": "8eff9339-6545-4c42-ad22-f26b5104e7d0"
      },
      "execution_count": 6,
      "outputs": [
        {
          "output_type": "stream",
          "name": "stdout",
          "text": [
            "(101, 13)\n",
            "(93, 13)\n",
            "(72, 13)\n",
            "(66, 13)\n",
            "(215, 13)\n",
            "(573, 13)\n",
            "(396, 13)\n",
            "(500, 13)\n",
            "(590, 13)\n",
            "(95, 13)\n",
            "(109, 13)\n"
          ]
        },
        {
          "output_type": "stream",
          "name": "stderr",
          "text": [
            "<ipython-input-6-c9c65fc3cdf6>:3: SettingWithCopyWarning: \n",
            "A value is trying to be set on a copy of a slice from a DataFrame\n",
            "\n",
            "See the caveats in the documentation: https://pandas.pydata.org/pandas-docs/stable/user_guide/indexing.html#returning-a-view-versus-a-copy\n",
            "  dataframes[i].drop(dataframes[i][dataframes[i]['Likes'] > 0].index, inplace=True)\n"
          ]
        }
      ]
    },
    {
      "cell_type": "code",
      "source": [
        "for i in range(len(dataframes)):\n",
        "  dataframes[i]['score_only'] = dataframes[i]['Content'].apply(lambda x: polarity_only(x))\n",
        "  print(dataframes[i].shape)"
      ],
      "metadata": {
        "colab": {
          "base_uri": "https://localhost:8080/"
        },
        "id": "7EB51tGBrQ2z",
        "outputId": "9c49179b-b275-4c41-f9d2-fdd67c4923d8"
      },
      "execution_count": 7,
      "outputs": [
        {
          "output_type": "stream",
          "name": "stdout",
          "text": [
            "(101, 14)\n",
            "(93, 14)\n",
            "(72, 14)\n",
            "(66, 14)\n",
            "(215, 14)\n",
            "(573, 14)\n",
            "(396, 14)\n",
            "(500, 14)\n",
            "(590, 14)\n",
            "(95, 14)\n",
            "(109, 14)\n"
          ]
        },
        {
          "output_type": "stream",
          "name": "stderr",
          "text": [
            "<ipython-input-7-237695e076a2>:2: SettingWithCopyWarning: \n",
            "A value is trying to be set on a copy of a slice from a DataFrame.\n",
            "Try using .loc[row_indexer,col_indexer] = value instead\n",
            "\n",
            "See the caveats in the documentation: https://pandas.pydata.org/pandas-docs/stable/user_guide/indexing.html#returning-a-view-versus-a-copy\n",
            "  dataframes[i]['score_only'] = dataframes[i]['Content'].apply(lambda x: polarity_only(x))\n"
          ]
        }
      ]
    },
    {
      "cell_type": "code",
      "source": [
        "values = []"
      ],
      "metadata": {
        "id": "8FUz2ucFsY4h"
      },
      "execution_count": 9,
      "outputs": []
    },
    {
      "cell_type": "code",
      "source": [
        "for i in range(len(dataframes)):\n",
        "  print(dataframes[i]['score_only'].mean())\n",
        "  values.append(dataframes[i]['score_only'].mean())"
      ],
      "metadata": {
        "colab": {
          "base_uri": "https://localhost:8080/"
        },
        "id": "IOLU46-QrV98",
        "outputId": "598970db-c40e-4223-a478-c6a75e2a2812"
      },
      "execution_count": 10,
      "outputs": [
        {
          "output_type": "stream",
          "name": "stdout",
          "text": [
            "0.07315337843308141\n",
            "0.05815442248909992\n",
            "0.09681292087542087\n",
            "0.03085056462897372\n",
            "0.08730932488054581\n",
            "0.07167435830226697\n",
            "0.07315953642721883\n",
            "0.045478683381433384\n",
            "0.050334536905354235\n",
            "0.06962200153647523\n",
            "0.04251975373254581\n"
          ]
        }
      ]
    },
    {
      "cell_type": "code",
      "source": [
        "import matplotlib.pyplot as plt\n",
        "\n",
        "plt.plot(values)\n",
        "plt.title(\"Mean Sentiment vs Date\")\n",
        "plt.xlabel(\"Date\")\n",
        "plt.ylabel(\"Sentiment Score\")\n",
        "plt.show()"
      ],
      "metadata": {
        "colab": {
          "base_uri": "https://localhost:8080/",
          "height": 472
        },
        "id": "PNSxh5f_sfME",
        "outputId": "5d661fff-a0ec-4ac4-a225-5a789e1788bd"
      },
      "execution_count": 12,
      "outputs": [
        {
          "output_type": "display_data",
          "data": {
            "text/plain": [
              "<Figure size 640x480 with 1 Axes>"
            ],
            "image/png": "[encoded data removed]"
          },
          "metadata": {}
        }
      ]
    }
  ]
}